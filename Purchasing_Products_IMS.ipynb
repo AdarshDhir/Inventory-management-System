{
  "nbformat": 4,
  "nbformat_minor": 0,
  "metadata": {
    "colab": {
      "name": "Purchasing Products_IMS.ipynb",
      "provenance": []
    },
    "kernelspec": {
      "name": "python3",
      "display_name": "Python 3"
    },
    "language_info": {
      "name": "python"
    }
  },
  "cells": [
    {
      "cell_type": "markdown",
      "metadata": {
        "id": "57nVGwfvpfmN"
      },
      "source": [
        "# Read Inventory"
      ]
    },
    {
      "cell_type": "code",
      "metadata": {
        "id": "5Dgn7cQIp2gL"
      },
      "source": [
        "import json\n",
        "import time"
      ],
      "execution_count": 1,
      "outputs": []
    },
    {
      "cell_type": "code",
      "metadata": {
        "id": "12Nw0KiwpUxC"
      },
      "source": [
        "fd=open(\"record_ims.json\",\"r\")\n",
        "txt=fd.read()\n",
        "fd.close()\n",
        "\n",
        "record=json.loads(txt)"
      ],
      "execution_count": 2,
      "outputs": []
    },
    {
      "cell_type": "code",
      "metadata": {
        "colab": {
          "base_uri": "https://localhost:8080/"
        },
        "id": "tGIKPOtmqAsF",
        "outputId": "13b489d5-d3f8-4bfd-cb24-449a74d245fe"
      },
      "source": [
        "record"
      ],
      "execution_count": 59,
      "outputs": [
        {
          "output_type": "execute_result",
          "data": {
            "text/plain": [
              "{'1000': {'Category': 'snacks',\n",
              "  'Discount': '11',\n",
              "  'Name': 'bingo',\n",
              "  'Price': '69.0',\n",
              "  'Quantity Available': '25'},\n",
              " '1001': {'Category': 'eatables',\n",
              "  'Discount': '15',\n",
              "  'Name': '5 star',\n",
              "  'Price': '49.0',\n",
              "  'Quantity Available': '25'},\n",
              " '1002': {'Category': 'eatables',\n",
              "  'Discount': '45',\n",
              "  'Name': 'hersheys',\n",
              "  'Price': '149.0',\n",
              "  'Quantity Available': '25'},\n",
              " '1003': {'Category': 'eatables',\n",
              "  'Discount': '0',\n",
              "  'Name': 'oil',\n",
              "  'Price': '79.0',\n",
              "  'Quantity Available': '25'},\n",
              " '1004': {'Category': 'Drinks',\n",
              "  'Discount': '34',\n",
              "  'Name': 'dairy milk',\n",
              "  'Price': '249.0',\n",
              "  'Quantity Available': '25'},\n",
              " '1005': {'Category': 'cosmetic',\n",
              "  'Discount': '12',\n",
              "  'Name': 'hair oil',\n",
              "  'Price': '229.0',\n",
              "  'Quantity Available': '25'},\n",
              " '1006': {'Category': 'cosmetic',\n",
              "  'Discount': '76',\n",
              "  'Name': 'comb',\n",
              "  'Price': '29.0',\n",
              "  'Quantity Available': '25'},\n",
              " '1007': {'Category': 'eatables',\n",
              "  'Discount': '10',\n",
              "  'Name': 'refine oil',\n",
              "  'Price': '39.0',\n",
              "  'Quantity Available': '25'},\n",
              " '1008': {'Category': 'eatables',\n",
              "  'Discount': '7',\n",
              "  'Name': 'masala puri',\n",
              "  'Price': '10.0',\n",
              "  'Quantity Available': '25'},\n",
              " '1009': {'Category': 'eatables',\n",
              "  'Discount': '56',\n",
              "  'Name': 'candy',\n",
              "  'Price': '50.0',\n",
              "  'Quantity Available': '25'},\n",
              " '1010': {'Category': 'eatables',\n",
              "  'Discount': '34',\n",
              "  'Name': 'sauce',\n",
              "  'Price': '100.0',\n",
              "  'Quantity Available': '25'},\n",
              " '1011': {'Category': 'eatables',\n",
              "  'Discount': '21',\n",
              "  'Name': 'soyabean',\n",
              "  'Price': '150.0',\n",
              "  'Quantity Available': '25'},\n",
              " '1012': {'Category': 'eatables',\n",
              "  'Discount': '17',\n",
              "  'Name': 'fruits',\n",
              "  'Price': '200.0',\n",
              "  'Quantity Available': '25'},\n",
              " '1013': {'Category': 'education',\n",
              "  'Discount': '14',\n",
              "  'Name': 'stationary',\n",
              "  'Price': '250.0',\n",
              "  'Quantity Available': '25'},\n",
              " '1014': {'Category': 'decor',\n",
              "  'Discount': '0',\n",
              "  'Name': 'cake',\n",
              "  'Price': '80.0',\n",
              "  'Quantity Available': '25'},\n",
              " '1015': {'Category': 'decor',\n",
              "  'Discount': '5',\n",
              "  'Name': 'almond',\n",
              "  'Price': '75.0',\n",
              "  'Quantity Available': '25'},\n",
              " '1016': {'Category': 'decor',\n",
              "  'Discount': '6',\n",
              "  'Name': 'glass',\n",
              "  'Price': '45.0',\n",
              "  'Quantity Available': '25'},\n",
              " '1017': {'Category': 'Drinks',\n",
              "  'Discount': '80',\n",
              "  'Name': 'alcohol',\n",
              "  'Price': '105.0',\n",
              "  'Quantity Available': '25'},\n",
              " '1018': {'Category': 'cosmetic',\n",
              "  'Discount': '43',\n",
              "  'Name': 'hairpin',\n",
              "  'Price': '155.0',\n",
              "  'Quantity Available': '25'},\n",
              " '1019': {'Category': 'cosmetic',\n",
              "  'Discount': '57',\n",
              "  'Name': 'facewash',\n",
              "  'Price': '245.0',\n",
              "  'Quantity Available': '25'},\n",
              " '1020': {'Category': 'decor',\n",
              "  'Discount': '90',\n",
              "  'Name': 'toys',\n",
              "  'Price': '225.0',\n",
              "  'Quantity Available': '25'},\n",
              " '1021': {'Category': 'appliances',\n",
              "  'Discount': '10',\n",
              "  'Name': 'tubelight',\n",
              "  'Price': '300',\n",
              "  'Quantity Available': '120'},\n",
              " '1022': {'Category': 'sports',\n",
              "  'Discount': '5',\n",
              "  'Name': 'football',\n",
              "  'Price': '400',\n",
              "  'Quantity Available': '50'},\n",
              " '1023': {'Category': 'education',\n",
              "  'Discount': '0',\n",
              "  'Name': 'notebook',\n",
              "  'Price': '70',\n",
              "  'Quantity Available': '100'},\n",
              " '1024': {'Category': 'education',\n",
              "  'Discount': '0',\n",
              "  'Name': 'pencil',\n",
              "  'Price': '10',\n",
              "  'Quantity Available': '1000'},\n",
              " '1025': {'Category': 'sports',\n",
              "  'Discount': '6',\n",
              "  'Name': 'yoga mat',\n",
              "  'Price': '430',\n",
              "  'Quantity Available': '100'},\n",
              " '1026': {'Category': 'eatables',\n",
              "  'Discount': '5',\n",
              "  'Name': 'Maggi',\n",
              "  'Price': '55',\n",
              "  'Quantity Available': '20'},\n",
              " '1027': {'Category': 'electronics',\n",
              "  'Discount': '10',\n",
              "  'Name': 'router',\n",
              "  'Price': '999',\n",
              "  'Quantity Available': '40'},\n",
              " '1028': {'Category': 'decor',\n",
              "  'Discount': '0',\n",
              "  'Name': 'wall art',\n",
              "  'Price': '50',\n",
              "  'Quantity Available': '28'},\n",
              " '1029': {'Category': 'music',\n",
              "  'Discount': '10',\n",
              "  'Name': 'guitar',\n",
              "  'Price': '2599',\n",
              "  'Quantity Available': '10'},\n",
              " '1030': {'Category': 'music',\n",
              "  'Discount': '5',\n",
              "  'Name': 'flute',\n",
              "  'Price': '399',\n",
              "  'Quantity Available': '40'}}"
            ]
          },
          "metadata": {},
          "execution_count": 59
        }
      ]
    },
    {
      "cell_type": "markdown",
      "metadata": {
        "id": "HbqsS0ErFMd9"
      },
      "source": [
        "# Customer Input"
      ]
    },
    {
      "cell_type": "code",
      "metadata": {
        "colab": {
          "base_uri": "https://localhost:8080/"
        },
        "id": "on0Gv2JA5FId",
        "outputId": "9586c9c4-b1bf-4f29-85f8-feed5cdf3973"
      },
      "source": [
        "ui_prodID = (input('Enter the Product ID: '))\n",
        "ui_quan = ( input('Enter the Quantity: '))"
      ],
      "execution_count": 141,
      "outputs": [
        {
          "name": "stdout",
          "output_type": "stream",
          "text": [
            "Enter the Product ID: 1022\n",
            "Enter the Quantity: 3\n"
          ]
        }
      ]
    },
    {
      "cell_type": "markdown",
      "metadata": {
        "id": "XJBH_z3n7Gxk"
      },
      "source": [
        "# Bill Processing"
      ]
    },
    {
      "cell_type": "code",
      "metadata": {
        "colab": {
          "base_uri": "https://localhost:8080/"
        },
        "id": "_L0Qbt6f7Flw",
        "outputId": "aab1455d-7fc9-4121-e943-7e72df892421"
      },
      "source": [
        "#condition for wrong input \n",
        "if(not (ui_prodID in record.keys())):\n",
        "  print(\"There is no such product. Wrong ID Entered !\")\n",
        "#condition when item isnt available\n",
        "elif(int(record[ui_prodID]['Quantity Available'])<int(ui_quan)):\n",
        "  print(\"Sorry!\\n we only have \",record[ui_prodID]['Quantity Available'],\" no. of\",record[ui_prodID]['Name'],\"at our shop\")\n",
        "else:\n",
        "  #price calculation formula with discount\n",
        "  price= float(record[ui_prodID]['Price']) * int(ui_quan) - (float(record[ui_prodID]['Price'])* int(record[ui_prodID]['Discount'])*0.01*int(ui_quan)) \n",
        "  print(\"Product: \", record[ui_prodID]['Name'])\n",
        "  print(\"Price: \", record[ui_prodID]['Price'])\n",
        "  print(\"Discount available: \",record[ui_prodID]['Discount'],\"%\")\n",
        "  print(\"Billing Amount: \", price)\n",
        "  record[ui_prodID]['Quantity Available'] = str(int(record[ui_prodID]['Quantity Available']) - int(ui_quan))\n"
      ],
      "execution_count": 142,
      "outputs": [
        {
          "output_type": "stream",
          "name": "stdout",
          "text": [
            "Product:  football\n",
            "Price:  400\n",
            "Discount available:  5 %\n",
            "Billing Amount:  1140.0\n"
          ]
        }
      ]
    },
    {
      "cell_type": "markdown",
      "metadata": {
        "id": "1gLpyeCSBOhN"
      },
      "source": [
        "# Update inventory after purchase"
      ]
    },
    {
      "cell_type": "code",
      "metadata": {
        "id": "fTd_jB3zBKky"
      },
      "source": [
        "js = json.dumps(record)\n",
        "\n",
        "fd = open(\"record_ims.json\",'w')\n",
        "fd.write(js)\n",
        "fd.close()"
      ],
      "execution_count": 143,
      "outputs": []
    },
    {
      "cell_type": "markdown",
      "metadata": {
        "id": "UWLd51_IB4qs"
      },
      "source": [
        "# Sales JSON"
      ]
    },
    {
      "cell_type": "code",
      "metadata": {
        "id": "cpHej5duPSLa"
      },
      "source": [
        "fd=open(\"sale.json\",\"r\")\n",
        "txt=fd.read()\n",
        "fd.close()\n",
        "sales_r=json.loads(txt)"
      ],
      "execution_count": 144,
      "outputs": []
    },
    {
      "cell_type": "code",
      "metadata": {
        "id": "euI-HIPzBV0H"
      },
      "source": [
        "#updating purchase\n",
        "sales[len(sales_r)+1]={'Product ID':ui_prodID,'Product Name':record[ui_prodID]['Name'],'Quantity Sold':ui_quan,'Total Amount':price,'Time of Purchase':time.ctime()}"
      ],
      "execution_count": 145,
      "outputs": []
    },
    {
      "cell_type": "code",
      "metadata": {
        "colab": {
          "base_uri": "https://localhost:8080/"
        },
        "id": "SwwaNo3tEqEN",
        "outputId": "6f3431c9-e5cf-40cc-dbc5-f4a3d43ea4e8"
      },
      "source": [
        "sales"
      ],
      "execution_count": 146,
      "outputs": [
        {
          "output_type": "execute_result",
          "data": {
            "text/plain": [
              "{'1': {'Product ID': '1028',\n",
              "  'Product Name': 'wall art',\n",
              "  'Quantity Sold': '2',\n",
              "  'Time of Purchase': 'Mon Sep  6 12:26:02 2021',\n",
              "  'Total Amount': 100.0},\n",
              " 10: {'Product ID': '1023',\n",
              "  'Product Name': 'notebook',\n",
              "  'Quantity Sold': '5',\n",
              "  'Time of Purchase': 'Mon Sep  6 13:26:01 2021',\n",
              "  'Total Amount': 350.0},\n",
              " 11: {'Product ID': '1022',\n",
              "  'Product Name': 'football',\n",
              "  'Quantity Sold': '3',\n",
              "  'Time of Purchase': 'Mon Sep  6 13:28:01 2021',\n",
              "  'Total Amount': 1140.0},\n",
              " 2: {'Product ID': '1019',\n",
              "  'Product Name': 'facewash',\n",
              "  'Quantity Sold': '5',\n",
              "  'Time of Purchase': 'Mon Sep  6 13:15:55 2021',\n",
              "  'Total Amount': 526.75},\n",
              " 3: {'Product ID': '1026',\n",
              "  'Product Name': 'Maggi',\n",
              "  'Quantity Sold': '10',\n",
              "  'Time of Purchase': 'Mon Sep  6 13:19:51 2021',\n",
              "  'Total Amount': 522.5},\n",
              " 4: {'Product ID': '1020',\n",
              "  'Product Name': 'toys',\n",
              "  'Quantity Sold': '5',\n",
              "  'Time of Purchase': 'Mon Sep  6 13:20:47 2021',\n",
              "  'Total Amount': 112.5},\n",
              " 5: {'Product ID': '1000',\n",
              "  'Product Name': 'bingo',\n",
              "  'Quantity Sold': '2',\n",
              "  'Time of Purchase': 'Mon Sep  6 13:21:21 2021',\n",
              "  'Total Amount': 122.82},\n",
              " 6: {'Product ID': '1025',\n",
              "  'Product Name': 'yoga mat',\n",
              "  'Quantity Sold': '4',\n",
              "  'Time of Purchase': 'Mon Sep  6 13:22:07 2021',\n",
              "  'Total Amount': 1616.8},\n",
              " 7: {'Product ID': '1018',\n",
              "  'Product Name': 'hairpin',\n",
              "  'Quantity Sold': '7',\n",
              "  'Time of Purchase': 'Mon Sep  6 13:23:52 2021',\n",
              "  'Total Amount': 618.4499999999999},\n",
              " 8: {'Product ID': '1015',\n",
              "  'Product Name': 'almond',\n",
              "  'Quantity Sold': '2',\n",
              "  'Time of Purchase': 'Mon Sep  6 13:24:28 2021',\n",
              "  'Total Amount': 142.5},\n",
              " 9: {'Product ID': '1030',\n",
              "  'Product Name': 'flute',\n",
              "  'Quantity Sold': '5',\n",
              "  'Time of Purchase': 'Mon Sep  6 13:25:17 2021',\n",
              "  'Total Amount': 1895.25}}"
            ]
          },
          "metadata": {},
          "execution_count": 146
        }
      ]
    },
    {
      "cell_type": "code",
      "metadata": {
        "id": "kOCYjLuHEyfX"
      },
      "source": [
        "sale = json.dumps(sales)\n",
        "\n",
        "fd = open(\"sale.json\",'w')\n",
        "fd.write(sale)\n",
        "fd.close()"
      ],
      "execution_count": 147,
      "outputs": []
    }
  ]
}